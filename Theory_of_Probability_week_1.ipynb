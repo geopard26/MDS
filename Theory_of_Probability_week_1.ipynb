{
  "nbformat": 4,
  "nbformat_minor": 0,
  "metadata": {
    "colab": {
      "provenance": [],
      "authorship_tag": "ABX9TyOsCEJv63KeiH41aeXaWZyz",
      "include_colab_link": true
    },
    "kernelspec": {
      "name": "python3",
      "display_name": "Python 3"
    },
    "language_info": {
      "name": "python"
    }
  },
  "cells": [
    {
      "cell_type": "markdown",
      "metadata": {
        "id": "view-in-github",
        "colab_type": "text"
      },
      "source": [
        "<a href=\"https://colab.research.google.com/github/geopard26/MDS/blob/main/Theory_of_Probability_week_1.ipynb\" target=\"_parent\"><img src=\"https://colab.research.google.com/assets/colab-badge.svg\" alt=\"Open In Colab\"/></a>"
      ]
    },
    {
      "cell_type": "code",
      "source": [
        "X_values = [-3, -2, -1, 0, 1, 2, 3]\n",
        "P_values = [1/14, 1/7, 1/7, 2/7, 2/7, 0, 1/14]\n",
        "\n",
        "# Calculate E[X]\n",
        "E_X = sum([x * p for x, p in zip(X_values, P_values)])\n",
        "print(E_X)\n",
        "\n",
        "# Calculate E[X^2]\n",
        "E_X2 = sum([x**2 * p for x, p in zip(X_values, P_values)])\n",
        "print(E_X2)\n",
        "\n",
        "# Calculate the variance\n",
        "variance = E_X2 - E_X**2\n",
        "\n",
        "print(round(variance, 2))\n"
      ],
      "metadata": {
        "colab": {
          "base_uri": "https://localhost:8080/"
        },
        "id": "-hob-4cOuPuO",
        "outputId": "3e1486b2-92d5-477d-f4f8-31817b0b1616"
      },
      "execution_count": 7,
      "outputs": [
        {
          "output_type": "stream",
          "name": "stdout",
          "text": [
            "-0.14285714285714282\n",
            "2.2857142857142856\n",
            "2.27\n"
          ]
        }
      ]
    },
    {
      "cell_type": "code",
      "source": [
        "X_values = [ 1, 2, 3, 4, 5, 6]\n",
        "P_values = [1/6, 1/6, 1/6, 1/6, 1/6, 1/6]\n",
        "\n",
        "# Calculate E[X]\n",
        "E_X = sum([x * p for x, p in zip(X_values, P_values)])\n",
        "\n",
        "# Calculate E[X^2]\n",
        "E_X2 = sum([x**2 * p for x, p in zip(X_values, P_values)])\n",
        "\n",
        "# Calculate the variance\n",
        "variance = E_X2 - E_X**2\n",
        "\n",
        "print(variance)\n"
      ],
      "metadata": {
        "colab": {
          "base_uri": "https://localhost:8080/"
        },
        "id": "aFt7ewONyyLh",
        "outputId": "35b74a55-c13b-4875-8fdd-ed0fd5c19b8e"
      },
      "execution_count": 4,
      "outputs": [
        {
          "output_type": "stream",
          "name": "stdout",
          "text": [
            "2.916666666666666\n"
          ]
        }
      ]
    },
    {
      "cell_type": "code",
      "source": [
        "X_values = [ 1, 3 ]\n",
        "P_values = [0.2, 0.8]\n",
        "\n",
        "# Calculate E[X]\n",
        "E_X = sum([x * p for x, p in zip(X_values, P_values)])\n",
        "print(E_X)\n",
        "\n",
        "# Calculate E[X^2]\n",
        "E_X2 = sum([x**2 * p for x, p in zip(X_values, P_values)])\n",
        "print(E_X2)\n",
        "\n",
        "\n",
        "# Calculate the variance\n",
        "variance = E_X2 - E_X**2\n",
        "\n",
        "print(variance)"
      ],
      "metadata": {
        "colab": {
          "base_uri": "https://localhost:8080/"
        },
        "id": "QgrBB49U4tj1",
        "outputId": "8ec9a799-faea-4ca2-fde1-e6d9822d5c19"
      },
      "execution_count": 10,
      "outputs": [
        {
          "output_type": "stream",
          "name": "stdout",
          "text": [
            "2.6000000000000005\n",
            "7.4\n",
            "0.6399999999999979\n"
          ]
        }
      ]
    },
    {
      "cell_type": "code",
      "source": [
        "from scipy.stats import poisson\n",
        "\n",
        "lambda_ = 2\n",
        "\n",
        "# P(X > 5) = 1 - P(X <= 5)\n",
        "prob = 1 - poisson.cdf(5, lambda_)\n",
        "\n",
        "# Print the probability with 5 digits after the decimal point\n",
        "print(f\"{prob:.5f}\")\n"
      ],
      "metadata": {
        "colab": {
          "base_uri": "https://localhost:8080/"
        },
        "id": "HgjkVmN_Y3CG",
        "outputId": "286f3d4a-8317-488e-e71c-3b8ae4ae794e"
      },
      "execution_count": 1,
      "outputs": [
        {
          "output_type": "stream",
          "name": "stdout",
          "text": [
            "0.01656\n"
          ]
        }
      ]
    },
    {
      "cell_type": "code",
      "source": [
        "from scipy.stats import poisson\n",
        "\n",
        "lambda_ = 2\n",
        "\n",
        "# Find the minimal q such that P(X <= q) >= 0.95\n",
        "q = poisson.ppf(0.95, lambda_)\n",
        "\n",
        "# Since q can be a decimal, and we need an integer number of operators, we'll round up.\n",
        "# However, the poisson.ppf function already gives us the ceiling value, so we just convert it to an integer.\n",
        "q = int(q)\n",
        "\n",
        "print(q)\n"
      ],
      "metadata": {
        "colab": {
          "base_uri": "https://localhost:8080/"
        },
        "id": "L2nCPUqKZvxX",
        "outputId": "777ba837-ed75-40fe-aff3-f6720f39b11e"
      },
      "execution_count": 2,
      "outputs": [
        {
          "output_type": "stream",
          "name": "stdout",
          "text": [
            "5\n"
          ]
        }
      ]
    }
  ]
}