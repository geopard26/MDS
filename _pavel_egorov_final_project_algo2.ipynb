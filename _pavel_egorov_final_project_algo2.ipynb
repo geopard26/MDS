{
  "nbformat": 4,
  "nbformat_minor": 0,
  "metadata": {
    "colab": {
      "provenance": [],
      "authorship_tag": "ABX9TyOFfmehdrZ88u+G/HQuxsMT",
      "include_colab_link": true
    },
    "kernelspec": {
      "name": "python3",
      "display_name": "Python 3"
    },
    "language_info": {
      "name": "python"
    }
  },
  "cells": [
    {
      "cell_type": "markdown",
      "metadata": {
        "id": "view-in-github",
        "colab_type": "text"
      },
      "source": [
        "<a href=\"https://colab.research.google.com/github/geopard26/MDS/blob/main/_pavel_egorov_final_project_algo2.ipynb\" target=\"_parent\"><img src=\"https://colab.research.google.com/assets/colab-badge.svg\" alt=\"Open In Colab\"/></a>"
      ]
    },
    {
      "cell_type": "code",
      "execution_count": null,
      "metadata": {
        "colab": {
          "base_uri": "https://localhost:8080/",
          "height": 35
        },
        "id": "k4AWmqgNlupm",
        "outputId": "e48f2fd9-d097-41a5-d1aa-15f95e74286b"
      },
      "outputs": [
        {
          "output_type": "execute_result",
          "data": {
            "text/plain": [
              "'1917'"
            ],
            "application/vnd.google.colaboratory.intrinsic+json": {
              "type": "string"
            }
          },
          "metadata": {},
          "execution_count": 4
        }
      ],
      "source": [
        "import math\n",
        "from collections import Counter\n",
        "\n",
        "def to_adjacency_list(similarities):\n",
        "    adjacency_list = {}\n",
        "\n",
        "    # First, add direct similarities\n",
        "    for pair in similarities:\n",
        "        adjacency_list.setdefault(pair[0], set()).add(pair[1])\n",
        "        adjacency_list.setdefault(pair[1], set()).add(pair[0])\n",
        "\n",
        "    # Then, extend to indirect similarities\n",
        "    for movie in adjacency_list:\n",
        "        similar_movies = list(adjacency_list[movie])  # To avoid modifying set during iteration\n",
        "        for similar in similar_movies:\n",
        "            adjacency_list[movie] = adjacency_list[movie].union(adjacency_list[similar])\n",
        "\n",
        "    return adjacency_list\n",
        "\n",
        "def get_views(friends):\n",
        "    views = Counter(film for watched_films in friends for film in watched_films)\n",
        "    return views\n",
        "\n",
        "def recommendation(movies, similarities, friends):\n",
        "    similarity_graph = to_adjacency_list(similarities)\n",
        "    views = get_views(friends)\n",
        "\n",
        "    best_recommendation = ('', -math.inf)\n",
        "\n",
        "    for movie in movies:\n",
        "        if movie not in views:\n",
        "            continue  # Skip movies that none of the friends have seen\n",
        "\n",
        "        F = views[movie]\n",
        "        similar_movies = similarity_graph.get(movie, set()) - {movie}  # Exclude the movie itself\n",
        "\n",
        "        if similar_movies:\n",
        "            S = sum(views[similar] for similar in similar_movies) / len(similar_movies)\n",
        "            F_S = F / S if S != 0 else 0\n",
        "        else:\n",
        "            F_S = F  # If there are no similar movies, uniqueness is not factored\n",
        "\n",
        "        if F_S > best_recommendation[1]:\n",
        "            best_recommendation = (movie, F_S)\n",
        "\n",
        "    return best_recommendation[0]\n",
        "\n",
        "# Test the updated function\n",
        "movies = [\"Parasite\", \"1917\", \"Ford v Ferrari\", \"Jojo Rabbit\", \"Joker\"]\n",
        "similarities = [[\"Parasite\", \"1917\"], [\"Parasite\", \"Jojo Rabbit\"], [\"Joker\", \"Ford v Ferrari\"]]\n",
        "friends = [[\"Joker\"], [\"Joker\", \"1917\"], [\"Joker\"], [\"Parasite\"], [\"1917\"], [\"Jojo Rabbit\", \"Joker\"]]\n",
        "\n",
        "recommendation(movies, similarities, friends)  # Expected: '1917'\n",
        "\n"
      ]
    }
  ]
}