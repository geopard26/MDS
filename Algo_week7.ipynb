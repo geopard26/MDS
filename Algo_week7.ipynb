{
  "nbformat": 4,
  "nbformat_minor": 0,
  "metadata": {
    "colab": {
      "provenance": []
    },
    "kernelspec": {
      "name": "python3",
      "display_name": "Python 3"
    },
    "language_info": {
      "name": "python"
    }
  },
  "cells": [
    {
      "cell_type": "code",
      "execution_count": 9,
      "metadata": {
        "id": "L-U7hv_Kerfc"
      },
      "outputs": [],
      "source": [
        "def hasLoops(adj_matrix):\n",
        "  n = len(adj_matrix)\n",
        "  has_loops = False\n",
        "\n",
        "  for i in range(n):\n",
        "    if adj_matrix[i][i] != 0:\n",
        "        has_loops = True\n",
        "        break\n",
        "\n",
        "  return has_loops"
      ]
    },
    {
      "cell_type": "code",
      "source": [
        "adj_matrix = [[1, 1, 1, 1, 0, ],\n",
        "[1, 0, 1, 1, 1, ],\n",
        "[1, 1, 0, 1, 1, ],\n",
        "[1, 1, 1, 1, 1, ],\n",
        "[0, 1, 1, 1, 0, ]]\n",
        "print(hasLoops(adj_matrix))  # Output is True\n",
        "\n"
      ],
      "metadata": {
        "colab": {
          "base_uri": "https://localhost:8080/"
        },
        "id": "CtbX7Eg6exXd",
        "outputId": "a6a4d7c6-b9a3-41e2-bfca-cf84f698e29f"
      },
      "execution_count": 10,
      "outputs": [
        {
          "output_type": "stream",
          "name": "stdout",
          "text": [
            "True\n"
          ]
        }
      ]
    },
    {
      "cell_type": "code",
      "source": [
        "adj_matrix = [[0, 0, 0, 1, 1, 0, 0, 1, 1, 1, ],\n",
        "[0, 0, 1, 0, 1, 1, 1, 1, 1, 1, ],\n",
        "[0, 1, 0, 1, 0, 1, 1, 1, 1, 1, ],\n",
        "[1, 0, 1, 0, 1, 1, 1, 1, 1, 0, ],\n",
        "[1, 1, 0, 1, 0, 1, 1, 1, 0, 1, ],\n",
        "[0, 1, 1, 1, 1, 0, 1, 1, 1, 0, ],\n",
        "[0, 1, 1, 1, 1, 1, 0, 1, 1, 1, ],\n",
        "[1, 1, 1, 1, 1, 1, 1, 0, 1, 1, ],\n",
        "[1, 1, 1, 1, 0, 1, 1, 1, 0, 1, ],\n",
        "[1, 1, 1, 0, 1, 0, 1, 1, 1, 0, ] ]\n",
        "print(hasLoops(adj_matrix))"
      ],
      "metadata": {
        "colab": {
          "base_uri": "https://localhost:8080/"
        },
        "id": "p2110USge2B2",
        "outputId": "2afdb98c-98f7-4395-fde3-8ec3efd774b2"
      },
      "execution_count": 11,
      "outputs": [
        {
          "output_type": "stream",
          "name": "stdout",
          "text": [
            "False\n"
          ]
        }
      ]
    },
    {
      "cell_type": "code",
      "source": [
        "def isUndirected(adj_matrix):\n",
        "    n = len(adj_matrix)\n",
        "    is_undirected = True\n",
        "\n",
        "    for i in range(n):\n",
        "        if adj_matrix[i][i] != 0:\n",
        "            is_undirected = False\n",
        "            return is_undirected\n",
        "\n",
        "        for j in range(n):\n",
        "            if adj_matrix[i][j] != adj_matrix[j][i]:\n",
        "                is_undirected = False\n",
        "                return is_undirected\n",
        "\n",
        "    return is_undirected"
      ],
      "metadata": {
        "id": "aMI-fiYjiEJ1"
      },
      "execution_count": 26,
      "outputs": []
    },
    {
      "cell_type": "code",
      "source": [
        "# Tests\n",
        "adj_matrix = [[0, 0, 1, 0, 0, ],\n",
        "              [0, 0, 1, 0, 1, ],\n",
        "              [1, 1, 0, 0, 0, ],\n",
        "              [0, 0, 0, 0, 0, ],\n",
        "              [0, 1, 0, 0, 0, ]]\n",
        "print(isUndirected(adj_matrix))  # Output: False"
      ],
      "metadata": {
        "colab": {
          "base_uri": "https://localhost:8080/"
        },
        "id": "BT7mWwyCiGGl",
        "outputId": "d357d5da-ff66-4cc0-a63d-ab0625488be8"
      },
      "execution_count": 24,
      "outputs": [
        {
          "output_type": "stream",
          "name": "stdout",
          "text": [
            "True\n"
          ]
        }
      ]
    },
    {
      "cell_type": "code",
      "source": [
        "adj_matrix =  [[0, 1, 1, 1, 1, 1, 0, 1, 1, 1, ],\n",
        "               [1, 1, 0, 1, 1, 1, 1, 1, 1, 1, ],\n",
        "               [1, 0, 0, 1, 0, 1, 1, 1, 1, 1, ],\n",
        "               [1, 1, 1, 0, 1, 0, 1, 1, 1, 1, ],\n",
        "               [1, 1, 0, 1, 0, 1, 0, 1, 1, 1, ],\n",
        "               [1, 1, 1, 0, 1, 0, 1, 1, 1, 0, ],\n",
        "               [0, 1, 1, 1, 0, 1, 0, 1, 1, 0, ],\n",
        "               [1, 1, 1, 1, 1, 1, 1, 0, 1, 1, ],\n",
        "               [1, 1, 1, 1, 1, 1, 1, 1, 0, 1, ],\n",
        "               [1, 1, 1, 1, 1, 0, 0, 1, 1, 0, ]]\n",
        "print(isUndirected(adj_matrix))"
      ],
      "metadata": {
        "colab": {
          "base_uri": "https://localhost:8080/"
        },
        "id": "G5z9ZO6NiHCR",
        "outputId": "506532c8-f631-4a81-b4c9-f8ca7f340ecf"
      },
      "execution_count": 25,
      "outputs": [
        {
          "output_type": "stream",
          "name": "stdout",
          "text": [
            "False\n"
          ]
        }
      ]
    },
    {
      "cell_type": "code",
      "source": [
        "def countEdges(adj_matrix):\n",
        "    n = len(adj_matrix)\n",
        "    edge_count = 0\n",
        "\n",
        "    for i in range(n):\n",
        "        for j in range(i+1, n):\n",
        "            if adj_matrix[i][j] == 1:\n",
        "                edge_count += 1\n",
        "\n",
        "    return edge_count"
      ],
      "metadata": {
        "id": "uIcgc623lD_7"
      },
      "execution_count": 31,
      "outputs": []
    },
    {
      "cell_type": "code",
      "source": [
        "# Tests\n",
        "adj_matrix = [[0, 0, 1, 0, 0, ],\n",
        "              [0, 0, 1, 0, 1, ],\n",
        "              [1, 1, 0, 0, 0, ],\n",
        "              [0, 0, 0, 0, 0, ],\n",
        "              [0, 1, 0, 0, 0, ]]\n",
        "print(countEdges(adj_matrix))  # Output: 3"
      ],
      "metadata": {
        "colab": {
          "base_uri": "https://localhost:8080/"
        },
        "id": "WnuBwWdolF_C",
        "outputId": "c6f12b1a-9d11-4775-bd69-d04dcd6d7e08"
      },
      "execution_count": 32,
      "outputs": [
        {
          "output_type": "stream",
          "name": "stdout",
          "text": [
            "3\n"
          ]
        }
      ]
    },
    {
      "cell_type": "code",
      "source": [
        "adj_matrix = [[0, 0, 1, 1, 1, 1, 1, 1, 1, 1, ],\n",
        "              [0, 0, 0, 1, 1, 1, 1, 1, 1, 1, ],\n",
        "              [1, 0, 0, 1, 1, 1, 1, 1, 0, 0, ],\n",
        "              [1, 1, 1, 0, 1, 0, 1, 1, 1, 1, ],\n",
        "              [1, 1, 1, 1, 0, 1, 1, 1, 1, 1, ],\n",
        "              [1, 1, 1, 0, 1, 0, 0, 1, 1, 1, ],\n",
        "              [1, 1, 1, 1, 1, 0, 0, 1, 0, 1, ],\n",
        "              [1, 1, 1, 1, 1, 1, 1, 0, 1, 0, ],\n",
        "              [1, 1, 0, 1, 1, 1, 0, 1, 0, 0, ],\n",
        "              [1, 1, 0, 1, 1, 1, 1, 0, 0, 0, ]]\n",
        "print(countEdges(adj_matrix))  # Output: 36"
      ],
      "metadata": {
        "colab": {
          "base_uri": "https://localhost:8080/"
        },
        "id": "TH83qF21lHBR",
        "outputId": "1a060915-aad2-44ed-8b90-40f0aad21605"
      },
      "execution_count": 33,
      "outputs": [
        {
          "output_type": "stream",
          "name": "stdout",
          "text": [
            "36\n"
          ]
        }
      ]
    },
    {
      "cell_type": "code",
      "source": [
        "def edgesCount(adj_list):\n",
        "    n = len(adj_list)\n",
        "    edges_count = 0\n",
        "\n",
        "    for i, neighbors in enumerate(adj_list):\n",
        "        for neighbor in neighbors:\n",
        "            if neighbor > i:  # Count the edge only once\n",
        "                edges_count += 1\n",
        "\n",
        "    return edges_count\n",
        "\n"
      ],
      "metadata": {
        "id": "fMMHaS8C-nJC"
      },
      "execution_count": 35,
      "outputs": []
    },
    {
      "cell_type": "code",
      "source": [
        "\n",
        "# Test\n",
        "adj_list = [[2], [2, 4], [0, 1], [], [1]]\n",
        "print(edgesCount(adj_list))  # Expected output is: 3"
      ],
      "metadata": {
        "id": "V2GLOea1-qD3"
      },
      "execution_count": null,
      "outputs": []
    },
    {
      "cell_type": "code",
      "source": [
        "def reverseGraph(adj_list):\n",
        "    n = len(adj_list)\n",
        "    reversed_graph = [[] for i in range(n)]\n",
        "\n",
        "    for i, neighbors in enumerate(adj_list):\n",
        "        for neighbor in neighbors:\n",
        "            reversed_graph[neighbor].append(i)\n",
        "\n",
        "    return reversed_graph\n",
        "\n"
      ],
      "metadata": {
        "id": "2JcapO5d_b-R"
      },
      "execution_count": 37,
      "outputs": []
    },
    {
      "cell_type": "code",
      "source": [
        "# Test\n",
        "adj_list = [[1, 2], [2], [], [1]]\n",
        "print(reverseGraph(adj_list))  # Expected output: [[], [0, 3], [0, 1], []]\n",
        "\n",
        "adj_list = [[1], [0]]\n",
        "print(reverseGraph(adj_list))  # Expected output: [[1], [0]]\n"
      ],
      "metadata": {
        "colab": {
          "base_uri": "https://localhost:8080/"
        },
        "id": "wauT_Sz8_eBg",
        "outputId": "7cf7fd01-4c6b-4706-f980-e66dc09722fe"
      },
      "execution_count": 38,
      "outputs": [
        {
          "output_type": "stream",
          "name": "stdout",
          "text": [
            "[[], [0, 3], [0, 1], []]\n",
            "[[1], [0]]\n"
          ]
        }
      ]
    },
    {
      "cell_type": "code",
      "source": [
        "def isTransitive(adj_list):\n",
        "    n = len(adj_list)\n",
        "    is_transitive = True\n",
        "\n",
        "    for v1 in range(n):\n",
        "        for v2 in adj_list[v1]:\n",
        "            for v3 in adj_list[v2]:\n",
        "                if v3 not in adj_list[v1] and v3 != v1:\n",
        "                    is_transitive = False\n",
        "                    return is_transitive\n",
        "\n",
        "    return is_transitive"
      ],
      "metadata": {
        "id": "DfcUYTwqXDtm"
      },
      "execution_count": 39,
      "outputs": []
    },
    {
      "cell_type": "code",
      "source": [
        "# Tests\n",
        "adj_list = [[1, 3, 4, 5, 6, 8, 9], [], [6], [1, 2, 4, 5, 6], [1, 2, 5, 6], [1, 2, 6], [], [1, 2, 3, 4, 5, 6, 9], [1, 2, 3, 4, 5, 6], []]\n",
        "print(isTransitive(adj_list))  # Expected output: False\n",
        "\n",
        "adj_list = [[], [], [], [], []]\n",
        "print(isTransitive(adj_list))  # Expected output: True"
      ],
      "metadata": {
        "colab": {
          "base_uri": "https://localhost:8080/"
        },
        "id": "I3whElYVXF6z",
        "outputId": "6176dd81-87ff-44ae-e2c9-af3f78e31299"
      },
      "execution_count": 40,
      "outputs": [
        {
          "output_type": "stream",
          "name": "stdout",
          "text": [
            "False\n",
            "True\n"
          ]
        }
      ]
    },
    {
      "cell_type": "code",
      "source": [
        "graph = []\n",
        "visited = []\n",
        "vertex_count=[]\n",
        "\n",
        "def dfs(v):\n",
        "    # MODIFY THIS FUNCTION\n",
        "    visited[v] = True\n",
        "    for i in range(len(graph)):\n",
        "        if (graph[v][i] == 1 and (not visited[i])):\n",
        "            vertex_count.append(i)  # Append the current vertex i\n",
        "            dfs(i)\n",
        "\n",
        "def sameComponent(adj_matrix, vertex):\n",
        "    global graph, visited, vertex_count\n",
        "    graph = adj_matrix\n",
        "    n = len(graph)\n",
        "    visited = [False for i in range(n)]\n",
        "    vertex_count = [vertex]  # Initialize vertex_count with the given vertex\n",
        "    dfs(vertex)\n",
        "    return len(vertex_count)"
      ],
      "metadata": {
        "id": "FGIqPaF0icc7"
      },
      "execution_count": 43,
      "outputs": []
    },
    {
      "cell_type": "code",
      "source": [
        "# Tests\n",
        "adj_matrix = [[0, 1, 1, 0, 0, ],\n",
        "              [1, 0, 1, 0, 0, ],\n",
        "              [1, 1, 0, 0, 0, ],\n",
        "              [0, 0, 0, 0, 0, ],\n",
        "              [0, 0, 0, 0, 0, ],]\n",
        "vertex = 0\n",
        "print(sameComponent(adj_matrix, vertex))  # Expected output: 3\n",
        "\n",
        "adj_matrix = [[0, 1, 0, 0, 0, 0, 0, 0, ],\n",
        "              [1, 0, 1, 0, 0, 0, 0, 0, ],\n",
        "              [0, 1, 0, 1, 0, 0, 0, 0, ],\n",
        "              [0, 0, 1, 0, 0, 0, 0, 0, ],\n",
        "              [0, 0, 0, 0, 0, 1, 0, 0, ],\n",
        "              [0, 0, 0, 0, 1, 0, 1, 0, ],\n",
        "              [0, 0, 0, 0, 0, 1, 0, 1, ],\n",
        "              [0, 0, 0, 0, 0, 0, 1, 0, ],]\n",
        "vertex = 0\n",
        "print(sameComponent(adj_matrix, vertex))  # Expected output: 4"
      ],
      "metadata": {
        "colab": {
          "base_uri": "https://localhost:8080/"
        },
        "id": "_-iMlVUUifpt",
        "outputId": "74d0829c-280a-4b82-a3fa-91e18bc41d39"
      },
      "execution_count": 44,
      "outputs": [
        {
          "output_type": "stream",
          "name": "stdout",
          "text": [
            "3\n",
            "4\n"
          ]
        }
      ]
    },
    {
      "cell_type": "code",
      "source": [
        "graph = []\n",
        "visited = []\n",
        "\n",
        "def dfs(v, parent):\n",
        "    visited[v] = True\n",
        "    for neighbor in graph[v]:\n",
        "        if not visited[neighbor]:\n",
        "            if dfs(neighbor, v):\n",
        "                return True\n",
        "        elif neighbor != parent:\n",
        "            return True\n",
        "    return False\n",
        "\n",
        "def isTree(adj_list):\n",
        "    global graph, visited\n",
        "    n = len(adj_list)\n",
        "    graph = adj_list\n",
        "    visited = [False for i in range(n)]\n",
        "\n",
        "    if dfs(0, -1):\n",
        "        return False\n",
        "\n",
        "    for v in visited:\n",
        "        if not v:\n",
        "            return False\n",
        "\n",
        "    return True"
      ],
      "metadata": {
        "id": "2riZwifwl0F0"
      },
      "execution_count": 45,
      "outputs": []
    },
    {
      "cell_type": "code",
      "source": [
        "\n",
        "# Tests\n",
        "adj_list = [[1, 2], [0, 2], [0, 1], [4], [3], []]\n",
        "print(isTree(adj_list))  # Expected: False\n",
        "\n",
        "adj_list = [[1], [0, 2], [1]]\n",
        "print(isTree(adj_list))  # Expected: True"
      ],
      "metadata": {
        "colab": {
          "base_uri": "https://localhost:8080/"
        },
        "id": "e0ft7N4Ql1of",
        "outputId": "9dce5666-e901-456e-ec68-804d9db12413"
      },
      "execution_count": 46,
      "outputs": [
        {
          "output_type": "stream",
          "name": "stdout",
          "text": [
            "False\n",
            "True\n"
          ]
        }
      ]
    },
    {
      "cell_type": "code",
      "source": [
        "def sortCourses(course_list, prerequisites_dict):\n",
        "    n = len(course_list)\n",
        "    course_order = []\n",
        "    visited = {course: \"\" for course in course_list}\n",
        "\n",
        "    def dfs(course):\n",
        "        visited[course] = \"VISITING\"\n",
        "\n",
        "        for prereq in prerequisites_dict.get(course, []):\n",
        "            if visited[prereq] == \"VISITING\":\n",
        "                return True\n",
        "            if not visited[prereq] == \"VISITED\":\n",
        "                if dfs(prereq):\n",
        "                    return True\n",
        "\n",
        "        visited[course] = \"VISITED\"\n",
        "        course_order.append(course)\n",
        "        return False\n",
        "\n",
        "    for course in course_list:\n",
        "        if visited[course] == \"\":\n",
        "            if dfs(course):\n",
        "                return -1\n",
        "\n",
        "    if len(course_order) != n:\n",
        "        return -1\n",
        "    return course_order"
      ],
      "metadata": {
        "id": "lQMUCYfum8zq"
      },
      "execution_count": 58,
      "outputs": []
    },
    {
      "cell_type": "code",
      "source": [
        "# Tests\n",
        "course_list = [1, 2, 0]\n",
        "prerequisites_dict = {1: [0], 2: [1]}\n",
        "print(sortCourses(course_list, prerequisites_dict))  # Expected: [0, 1, 2]\n",
        "\n",
        "course_list = [0]\n",
        "prerequisites_dict = {}\n",
        "print(sortCourses(course_list, prerequisites_dict))  # Expected: [0]"
      ],
      "metadata": {
        "colab": {
          "base_uri": "https://localhost:8080/"
        },
        "id": "5-_CDCq2m_dQ",
        "outputId": "e15b3dfa-7c63-45fd-9a02-db7297f15429"
      },
      "execution_count": 59,
      "outputs": [
        {
          "output_type": "stream",
          "name": "stdout",
          "text": [
            "[0, 1, 2]\n",
            "[0]\n"
          ]
        }
      ]
    }
  ]
}