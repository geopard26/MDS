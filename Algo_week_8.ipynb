{
  "nbformat": 4,
  "nbformat_minor": 0,
  "metadata": {
    "colab": {
      "provenance": [],
      "authorship_tag": "ABX9TyMe+sqUuGUZrzXEJ5Cgbsxr",
      "include_colab_link": true
    },
    "kernelspec": {
      "name": "python3",
      "display_name": "Python 3"
    },
    "language_info": {
      "name": "python"
    }
  },
  "cells": [
    {
      "cell_type": "markdown",
      "metadata": {
        "id": "view-in-github",
        "colab_type": "text"
      },
      "source": [
        "<a href=\"https://colab.research.google.com/github/geopard26/MDS/blob/main/Algo_week_8.ipynb\" target=\"_parent\"><img src=\"https://colab.research.google.com/assets/colab-badge.svg\" alt=\"Open In Colab\"/></a>"
      ]
    },
    {
      "cell_type": "markdown",
      "source": [
        "Представлены решения по алгоримам Беллмана-Форда и Флойда-Воршалла.\n",
        "\n",
        "Данные алгоритмы используются при решении задач связанных с перемещением по графу и поиску оптимального пути."
      ],
      "metadata": {
        "id": "GkP8yhP4zxzn"
      }
    },
    {
      "cell_type": "code",
      "execution_count": null,
      "metadata": {
        "id": "Pul1VaoMkdoI"
      },
      "outputs": [],
      "source": [
        "def BellmanFord(weight_matrix, v_from):\n",
        "    n, graph = len(weight_matrix), weight_matrix\n",
        "    dist = [float(\"inf\") for i in range(n)]\n",
        "    dist[v_from] = 0\n",
        "\n",
        "    for _ in range(n-1):\n",
        "        for i in range(n):\n",
        "            for j in range(n):\n",
        "                if graph[i][j] != float(\"inf\") and dist[i] + graph[i][j] < dist[j]:\n",
        "                    dist[j] = dist[i] + graph[i][j]\n",
        "\n",
        "    for i in range(n):\n",
        "        for j in range(n):\n",
        "            if graph[i][j] != float(\"inf\") and dist[i] + graph[i][j] < dist[j]:\n",
        "                print(\"Graph contains negative weight cycle\")\n",
        "                return None\n",
        "\n",
        "    return dist"
      ]
    },
    {
      "cell_type": "code",
      "source": [
        "# Tests\n",
        "weight_matrix = [[float('inf'), 10, 100, float('inf'), float('inf'), float('inf')],\n",
        "                 [float('inf'), float('inf'), 10, float('inf'), float('inf'), float('inf')],\n",
        "                 [float('inf'), float('inf'), float('inf'), float('inf'), float('inf'), float('inf')],\n",
        "                 [float('inf'), float('inf'), float('inf'), float('inf'), -10, float('inf')],\n",
        "                 [float('inf'), float('inf'), float('inf'), float('inf'), float('inf'), float('inf')],\n",
        "                 [float('inf'), float('inf'), float('inf'), float('inf'), float('inf'), float('inf')]]\n",
        "v_from = 0\n",
        "print(BellmanFord(weight_matrix, v_from))\n",
        "\n",
        "weight_matrix = [[43]]\n",
        "v_from = 0\n",
        "print(BellmanFord(weight_matrix, v_from))\n"
      ],
      "metadata": {
        "colab": {
          "base_uri": "https://localhost:8080/"
        },
        "id": "FEKxJrbDklKY",
        "outputId": "ff9f9d2b-dd4f-4fad-9a15-55a13ee90caa"
      },
      "execution_count": null,
      "outputs": [
        {
          "output_type": "stream",
          "name": "stdout",
          "text": [
            "[0, 10, 20, inf, inf, inf]\n",
            "[0]\n"
          ]
        }
      ]
    },
    {
      "cell_type": "code",
      "source": [
        "def hasNegativeCycle(weight_matrix):\n",
        "    n = len(weight_matrix)\n",
        "    dist = [float(\"inf\") for _ in range(n)]\n",
        "    dist[0] = 0\n",
        "\n",
        "    for _ in range(n-1):\n",
        "        for i in range(n):\n",
        "            for j in range(n):\n",
        "                if weight_matrix[i][j] != float(\"inf\") and dist[i] + weight_matrix[i][j] < dist[j]:\n",
        "                    dist[j] = dist[i] + weight_matrix[i][j]\n",
        "\n",
        "    for i in range(n):\n",
        "        for j in range(n):\n",
        "            if weight_matrix[i][j] != float(\"inf\") and dist[i] + weight_matrix[i][j] < dist[j]:\n",
        "                return True\n",
        "\n",
        "    return False"
      ],
      "metadata": {
        "id": "VS48KibWlsHz"
      },
      "execution_count": null,
      "outputs": []
    },
    {
      "cell_type": "code",
      "source": [
        "# Tests\n",
        "weight_matrix = [[float('inf')]]\n",
        "print(hasNegativeCycle(weight_matrix)) # Expected output: False\n",
        "\n",
        "weight_matrix = [[0]]\n",
        "print(hasNegativeCycle(weight_matrix))  # Expected output: False\n",
        "\n",
        "weight_matrix = [[float('inf'), float('inf'), float('inf'), 5, float('inf')],\n",
        "  [-20, float('inf'), float('inf'), float('inf'), float('inf')],\n",
        "  [float('inf'), 10, float('inf'), float('inf'), float('inf')],\n",
        "  [float('inf'), float('inf'), float('inf'), float('inf'), 7],\n",
        "  [float('inf'), float('inf'), -3, float('inf'), float('inf')]]\n",
        "print(hasNegativeCycle(weight_matrix)) # Expected output: True"
      ],
      "metadata": {
        "colab": {
          "base_uri": "https://localhost:8080/"
        },
        "id": "NuJtRIqElvTH",
        "outputId": "c01d1a7b-2f96-4936-a05c-f595cb0d759c"
      },
      "execution_count": null,
      "outputs": [
        {
          "output_type": "stream",
          "name": "stdout",
          "text": [
            "False\n",
            "False\n",
            "True\n"
          ]
        }
      ]
    },
    {
      "cell_type": "code",
      "source": [
        "from copy import deepcopy\n",
        "\n",
        "def FloydWarshall(weight_matrix):\n",
        "    n = len(weight_matrix)\n",
        "    dist = deepcopy(weight_matrix)\n",
        "\n",
        "    for k in range(n):\n",
        "        for i in range(n):\n",
        "            for j in range(n):\n",
        "                # If the path from i to j through k is shorter than the current path from i to j, update dist[i][j]\n",
        "                if dist[i][k] + dist[k][j] < dist[i][j]:\n",
        "                    dist[i][j] = dist[i][k] + dist[k][j]\n",
        "\n",
        "    return dist"
      ],
      "metadata": {
        "id": "qwIERtCymrLS"
      },
      "execution_count": null,
      "outputs": []
    },
    {
      "cell_type": "code",
      "source": [
        "# Tests\n",
        "weight_matrix = [[0, 100, 1, 100, 100, 100],\n",
        "                 [1, 0, 100, 4, 2, 100],\n",
        "                 [100, 100, 0, 1, 100, 100],\n",
        "                 [100, 4, 100, 0, 100, 6],\n",
        "                 [100, 1, 100, 100, 0, 4],\n",
        "                 [1, 100, 100, 100, 100, 0]]\n",
        "print(FloydWarshall(weight_matrix))\n",
        "\n",
        "weight_matrix = [[0, 6, 8, 100, 100, 100],\n",
        "                 [5, 0, 5, 100, 100, 100],\n",
        "                 [1, 7, 0, 100, 100, 100],\n",
        "                 [100, 100, 100, 0, 6, 100],\n",
        "                 [100, 100, 100, 100, 0, 3],\n",
        "                 [100, 100, 100, 2, 100, 0]]\n",
        "print(FloydWarshall(weight_matrix))"
      ],
      "metadata": {
        "colab": {
          "base_uri": "https://localhost:8080/"
        },
        "id": "nQoa941CmuMw",
        "outputId": "50656bcd-57f3-4757-fb31-95a1b02915c1"
      },
      "execution_count": null,
      "outputs": [
        {
          "output_type": "stream",
          "name": "stdout",
          "text": [
            "[[0, 6, 1, 2, 8, 8], [1, 0, 2, 3, 2, 6], [6, 5, 0, 1, 7, 7], [5, 4, 6, 0, 6, 6], [2, 1, 3, 4, 0, 4], [1, 7, 2, 3, 9, 0]]\n",
            "[[0, 6, 8, 100, 100, 100], [5, 0, 5, 100, 100, 100], [1, 7, 0, 100, 100, 100], [100, 100, 100, 0, 6, 9], [100, 100, 100, 5, 0, 3], [100, 100, 100, 2, 8, 0]]\n"
          ]
        }
      ]
    },
    {
      "cell_type": "code",
      "source": [
        "[[0, 6, 1, 2, 8, 8], [1, 0, 2, 3, 2, 6], [6, 5, 0, 1, 7, 7], [5, 4, 6, 0, 6, 6], [2, 1, 3, 4, 0, 4], [1, 7, 2, 3, 9, 0]]"
      ],
      "metadata": {
        "id": "2HprOO2Rm1Gj"
      },
      "execution_count": null,
      "outputs": []
    }
  ]
}