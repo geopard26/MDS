{
  "nbformat": 4,
  "nbformat_minor": 0,
  "metadata": {
    "colab": {
      "provenance": [],
      "authorship_tag": "ABX9TyNMkkvTyvWx9KlxUUa9C5G7",
      "include_colab_link": true
    },
    "kernelspec": {
      "name": "python3",
      "display_name": "Python 3"
    },
    "language_info": {
      "name": "python"
    }
  },
  "cells": [
    {
      "cell_type": "markdown",
      "metadata": {
        "id": "view-in-github",
        "colab_type": "text"
      },
      "source": [
        "<a href=\"https://colab.research.google.com/github/geopard26/MDS/blob/main/Linear_Algebra_week3.ipynb\" target=\"_parent\"><img src=\"https://colab.research.google.com/assets/colab-badge.svg\" alt=\"Open In Colab\"/></a>"
      ]
    },
    {
      "cell_type": "code",
      "execution_count": null,
      "metadata": {
        "colab": {
          "base_uri": "https://localhost:8080/",
          "height": 410
        },
        "id": "wJTfXyLpMtpq",
        "outputId": "68929f3d-2593-4a00-a62a-74a47ba5ea46"
      },
      "outputs": [
        {
          "output_type": "error",
          "ename": "LinAlgError",
          "evalue": "ignored",
          "traceback": [
            "\u001b[0;31m---------------------------------------------------------------------------\u001b[0m",
            "\u001b[0;31mLinAlgError\u001b[0m                               Traceback (most recent call last)",
            "\u001b[0;32m<ipython-input-4-73feb3422873>\u001b[0m in \u001b[0;36m<cell line: 5>\u001b[0;34m()\u001b[0m\n\u001b[1;32m      3\u001b[0m \u001b[0;31m# B=np.array([[-2,1,1],[1,-1,2],[-1,3,-1]])\u001b[0m\u001b[0;34m\u001b[0m\u001b[0;34m\u001b[0m\u001b[0m\n\u001b[1;32m      4\u001b[0m \u001b[0mA\u001b[0m\u001b[0;34m=\u001b[0m\u001b[0mnp\u001b[0m\u001b[0;34m.\u001b[0m\u001b[0marray\u001b[0m\u001b[0;34m(\u001b[0m\u001b[0;34m[\u001b[0m\u001b[0;34m[\u001b[0m\u001b[0;34m-\u001b[0m\u001b[0;36m1\u001b[0m\u001b[0;34m,\u001b[0m\u001b[0;36m2\u001b[0m\u001b[0;34m,\u001b[0m\u001b[0;36m0\u001b[0m\u001b[0;34m]\u001b[0m\u001b[0;34m,\u001b[0m\u001b[0;34m[\u001b[0m\u001b[0;36m2\u001b[0m\u001b[0;34m,\u001b[0m\u001b[0;36m1\u001b[0m\u001b[0;34m,\u001b[0m\u001b[0;36m2\u001b[0m\u001b[0;34m]\u001b[0m\u001b[0;34m,\u001b[0m\u001b[0;34m[\u001b[0m\u001b[0;36m3\u001b[0m\u001b[0;34m,\u001b[0m \u001b[0;36m2\u001b[0m\u001b[0;34m,\u001b[0m \u001b[0;36m1\u001b[0m\u001b[0;34m]\u001b[0m\u001b[0;34m]\u001b[0m\u001b[0;34m)\u001b[0m\u001b[0;34m\u001b[0m\u001b[0;34m\u001b[0m\u001b[0m\n\u001b[0;32m----> 5\u001b[0;31m \u001b[0mAb\u001b[0m\u001b[0;34m=\u001b[0m\u001b[0mnp\u001b[0m\u001b[0;34m.\u001b[0m\u001b[0mlinalg\u001b[0m\u001b[0;34m.\u001b[0m\u001b[0minv\u001b[0m\u001b[0;34m(\u001b[0m\u001b[0mB\u001b[0m\u001b[0;34m)\u001b[0m\u001b[0;34m.\u001b[0m\u001b[0mdot\u001b[0m\u001b[0;34m(\u001b[0m\u001b[0mA\u001b[0m\u001b[0;34m.\u001b[0m\u001b[0mdot\u001b[0m\u001b[0;34m(\u001b[0m\u001b[0mB\u001b[0m\u001b[0;34m)\u001b[0m\u001b[0;34m)\u001b[0m\u001b[0;34m\u001b[0m\u001b[0;34m\u001b[0m\u001b[0m\n\u001b[0m\u001b[1;32m      6\u001b[0m \u001b[0mprint\u001b[0m\u001b[0;34m(\u001b[0m\u001b[0;34m\"new transformation matrix in base B\"\u001b[0m\u001b[0;34m)\u001b[0m\u001b[0;34m\u001b[0m\u001b[0;34m\u001b[0m\u001b[0m\n\u001b[1;32m      7\u001b[0m \u001b[0mprint\u001b[0m\u001b[0;34m(\u001b[0m\u001b[0mAb\u001b[0m\u001b[0;34m)\u001b[0m\u001b[0;34m\u001b[0m\u001b[0;34m\u001b[0m\u001b[0m\n",
            "\u001b[0;32m/usr/local/lib/python3.10/dist-packages/numpy/core/overrides.py\u001b[0m in \u001b[0;36minv\u001b[0;34m(*args, **kwargs)\u001b[0m\n",
            "\u001b[0;32m/usr/local/lib/python3.10/dist-packages/numpy/linalg/linalg.py\u001b[0m in \u001b[0;36minv\u001b[0;34m(a)\u001b[0m\n\u001b[1;32m    545\u001b[0m     \u001b[0ma\u001b[0m\u001b[0;34m,\u001b[0m \u001b[0mwrap\u001b[0m \u001b[0;34m=\u001b[0m \u001b[0m_makearray\u001b[0m\u001b[0;34m(\u001b[0m\u001b[0ma\u001b[0m\u001b[0;34m)\u001b[0m\u001b[0;34m\u001b[0m\u001b[0;34m\u001b[0m\u001b[0m\n\u001b[1;32m    546\u001b[0m     \u001b[0m_assert_stacked_2d\u001b[0m\u001b[0;34m(\u001b[0m\u001b[0ma\u001b[0m\u001b[0;34m)\u001b[0m\u001b[0;34m\u001b[0m\u001b[0;34m\u001b[0m\u001b[0m\n\u001b[0;32m--> 547\u001b[0;31m     \u001b[0m_assert_stacked_square\u001b[0m\u001b[0;34m(\u001b[0m\u001b[0ma\u001b[0m\u001b[0;34m)\u001b[0m\u001b[0;34m\u001b[0m\u001b[0;34m\u001b[0m\u001b[0m\n\u001b[0m\u001b[1;32m    548\u001b[0m     \u001b[0mt\u001b[0m\u001b[0;34m,\u001b[0m \u001b[0mresult_t\u001b[0m \u001b[0;34m=\u001b[0m \u001b[0m_commonType\u001b[0m\u001b[0;34m(\u001b[0m\u001b[0ma\u001b[0m\u001b[0;34m)\u001b[0m\u001b[0;34m\u001b[0m\u001b[0;34m\u001b[0m\u001b[0m\n\u001b[1;32m    549\u001b[0m \u001b[0;34m\u001b[0m\u001b[0m\n",
            "\u001b[0;32m/usr/local/lib/python3.10/dist-packages/numpy/linalg/linalg.py\u001b[0m in \u001b[0;36m_assert_stacked_square\u001b[0;34m(*arrays)\u001b[0m\n\u001b[1;32m    202\u001b[0m         \u001b[0mm\u001b[0m\u001b[0;34m,\u001b[0m \u001b[0mn\u001b[0m \u001b[0;34m=\u001b[0m \u001b[0ma\u001b[0m\u001b[0;34m.\u001b[0m\u001b[0mshape\u001b[0m\u001b[0;34m[\u001b[0m\u001b[0;34m-\u001b[0m\u001b[0;36m2\u001b[0m\u001b[0;34m:\u001b[0m\u001b[0;34m]\u001b[0m\u001b[0;34m\u001b[0m\u001b[0;34m\u001b[0m\u001b[0m\n\u001b[1;32m    203\u001b[0m         \u001b[0;32mif\u001b[0m \u001b[0mm\u001b[0m \u001b[0;34m!=\u001b[0m \u001b[0mn\u001b[0m\u001b[0;34m:\u001b[0m\u001b[0;34m\u001b[0m\u001b[0;34m\u001b[0m\u001b[0m\n\u001b[0;32m--> 204\u001b[0;31m             \u001b[0;32mraise\u001b[0m \u001b[0mLinAlgError\u001b[0m\u001b[0;34m(\u001b[0m\u001b[0;34m'Last 2 dimensions of the array must be square'\u001b[0m\u001b[0;34m)\u001b[0m\u001b[0;34m\u001b[0m\u001b[0;34m\u001b[0m\u001b[0m\n\u001b[0m\u001b[1;32m    205\u001b[0m \u001b[0;34m\u001b[0m\u001b[0m\n\u001b[1;32m    206\u001b[0m \u001b[0;32mdef\u001b[0m \u001b[0m_assert_finite\u001b[0m\u001b[0;34m(\u001b[0m\u001b[0;34m*\u001b[0m\u001b[0marrays\u001b[0m\u001b[0;34m)\u001b[0m\u001b[0;34m:\u001b[0m\u001b[0;34m\u001b[0m\u001b[0;34m\u001b[0m\u001b[0m\n",
            "\u001b[0;31mLinAlgError\u001b[0m: Last 2 dimensions of the array must be square"
          ]
        }
      ],
      "source": [
        "import numpy as np\n",
        "B=np.array([[-2,1,1],[1,-1,2],[-1,3,-1]])\n",
        "A=np.array([[-1,2,0],[2,1,2],[3, 2, 1]])\n",
        "Ab=np.linalg.inv(B).dot(A.dot(B))\n",
        "print(\"new transformation matrix in base B\")\n",
        "print(Ab)"
      ]
    },
    {
      "cell_type": "code",
      "source": [
        "from re import X\n",
        "import numpy as np\n",
        "def unit_vector(vector):\n",
        "    \"\"\" Returns the unit vector of the vector.  \"\"\"\n",
        "    return vector / np.linalg.norm(vector)\n",
        "def angle_between(v1, v2):\n",
        "    \"\"\" Returns the angle in radians between vectors 'v1' and 'v2'::\n",
        "            >>> angle_between((1, 0, 0), (0, 1, 0))\n",
        "            1.5707963267948966\n",
        "            >>> angle_between((1, 0, 0), (1, 0, 0))\n",
        "            0.0\n",
        "            >>> angle_between((1, 0, 0), (-1, 0, 0))\n",
        "            3.141592653589793\n",
        "    \"\"\"\n",
        "    v1_u = unit_vector(v1)\n",
        "    v2_u = unit_vector(v2)\n",
        "    return np.arccos(np.clip(np.dot(v1_u, v2_u), -1.0, 1.0))\n",
        "\n",
        "x = (3, 1, 2, 5)\n",
        "y = (-1, 4, -3, 0)\n",
        "print(np.cos(np.rad2deg(angle_between(x, y))))"
      ],
      "metadata": {
        "colab": {
          "base_uri": "https://localhost:8080/"
        },
        "id": "BEdK-SDK-NqJ",
        "outputId": "da15a7e4-a136-4f83-e2a9-81e8035ac9fc"
      },
      "execution_count": null,
      "outputs": [
        {
          "output_type": "stream",
          "name": "stdout",
          "text": [
            "0.07365035843105391\n"
          ]
        }
      ]
    },
    {
      "cell_type": "code",
      "source": [
        "print(22/9 - 5/26)\n",
        "print(-11/9 - 25/26)"
      ],
      "metadata": {
        "colab": {
          "base_uri": "https://localhost:8080/"
        },
        "id": "3KxBAk23JdGP",
        "outputId": "272c9da1-ef73-4be6-92f5-45bf06472d41"
      },
      "execution_count": null,
      "outputs": [
        {
          "output_type": "stream",
          "name": "stdout",
          "text": [
            "2.252136752136752\n",
            "-2.183760683760684\n"
          ]
        }
      ]
    },
    {
      "cell_type": "code",
      "source": [
        "import numpy as np\n",
        "\n",
        "sin_value = -np.pi/4\n",
        "angle = np.arcsin(sin_value)\n",
        "\n",
        "print(angle)"
      ],
      "metadata": {
        "colab": {
          "base_uri": "https://localhost:8080/"
        },
        "id": "gpVPChbAnzCI",
        "outputId": "a7e84994-fa75-4a84-e463-2ba7a681a64c"
      },
      "execution_count": null,
      "outputs": [
        {
          "output_type": "stream",
          "name": "stdout",
          "text": [
            "-0.9033391107665127\n"
          ]
        }
      ]
    },
    {
      "cell_type": "code",
      "source": [
        "sin_alpha = -np.pi/4\n",
        "cos_beta = np.pi/5\n",
        "\n",
        "print(np.arccos(cos_beta))\n"
      ],
      "metadata": {
        "colab": {
          "base_uri": "https://localhost:8080/"
        },
        "id": "q0xTvzyrpwVu",
        "outputId": "c86d3c5d-f225-4543-e2b9-ed6dd100cc90"
      },
      "execution_count": null,
      "outputs": [
        {
          "output_type": "stream",
          "name": "stdout",
          "text": [
            "0.8914064000439458\n"
          ]
        }
      ]
    },
    {
      "cell_type": "code",
      "source": [
        "import numpy as np\n",
        "\n",
        "x = np.pi/5  # пример значения косинуса\n",
        "theta_rad = np.arccos(x)  # угол в радианах\n",
        "theta_deg = np.rad2deg(theta_rad)  # угол в градусах\n",
        "\n",
        "print(theta_deg)"
      ],
      "metadata": {
        "colab": {
          "base_uri": "https://localhost:8080/"
        },
        "id": "cC6yDzw-sytu",
        "outputId": "19a2d62a-8f61-4c49-9aa5-20afbc7b0ac8"
      },
      "execution_count": null,
      "outputs": [
        {
          "output_type": "stream",
          "name": "stdout",
          "text": [
            "51.07382455346838\n"
          ]
        }
      ]
    },
    {
      "cell_type": "code",
      "source": [
        "import numpy as np\n",
        "\n",
        "sin_alpha = -np.pi/4\n",
        "cos_beta = np.pi/5\n",
        "\n",
        "# Находим углы по значениям синуса и косинуса\n",
        "alpha_rad = np.arcsin(sin_alpha)\n",
        "beta_rad = np.arccos(cos_beta)\n",
        "\n",
        "# Преобразовываем углы из радиан в градусы\n",
        "alpha_deg = np.rad2deg(alpha_rad)\n",
        "beta_deg = np.rad2deg(beta_rad)\n",
        "\n",
        "print(alpha_deg, beta_deg)\n"
      ],
      "metadata": {
        "colab": {
          "base_uri": "https://localhost:8080/"
        },
        "id": "77FIpouavrQe",
        "outputId": "8b59fd58-a30e-4447-f5cb-9866b73e9ff9"
      },
      "execution_count": null,
      "outputs": [
        {
          "output_type": "stream",
          "name": "stdout",
          "text": [
            "-51.75751851602197 51.07382455346838\n"
          ]
        }
      ]
    },
    {
      "cell_type": "code",
      "source": [
        "print(np.sin(45))\n",
        "print(np.pi/4)"
      ],
      "metadata": {
        "colab": {
          "base_uri": "https://localhost:8080/"
        },
        "id": "wkB1IMqOwDk-",
        "outputId": "f026f042-d6c8-4690-f32d-a2be6fbf580d"
      },
      "execution_count": null,
      "outputs": [
        {
          "output_type": "stream",
          "name": "stdout",
          "text": [
            "0.8509035245341184\n",
            "0.7853981633974483\n"
          ]
        }
      ]
    },
    {
      "cell_type": "code",
      "source": [
        "# Сначала выведите норму вектора a, потом вектора b.\n",
        "from numpy import array, inf\n",
        "from numpy.linalg import norm\n",
        "# Данные:\n",
        "d = array([20, -4, 8, 2])\n",
        "\n",
        "print(norm(d, 1))\n",
        "print(norm(d, 2))"
      ],
      "metadata": {
        "colab": {
          "base_uri": "https://localhost:8080/"
        },
        "id": "gjWwOMoWVxKe",
        "outputId": "ad1354f5-6311-4864-df6e-0cdf25db9c57"
      },
      "execution_count": null,
      "outputs": [
        {
          "output_type": "stream",
          "name": "stdout",
          "text": [
            "34.0\n",
            "22.0\n"
          ]
        }
      ]
    },
    {
      "cell_type": "code",
      "source": [
        "from numpy import array, inf\n",
        "from numpy.linalg import norm\n",
        "from math import sqrt\n",
        "# Данные:\n",
        "a = array([18])\n",
        "b = array([7])\n",
        "c = -3*a + 5*b\n",
        "\n",
        "c_norm = 9*a**2 - 15*a*b + 25*b**2\n",
        "print(9*a**2, -15*a*b, 25*b**2)\n",
        "\n",
        "print(sqrt(c_norm))"
      ],
      "metadata": {
        "colab": {
          "base_uri": "https://localhost:8080/"
        },
        "id": "Gd3H7NvqVw_v",
        "outputId": "8566417f-31c4-4299-9c9a-43189049d1e1"
      },
      "execution_count": null,
      "outputs": [
        {
          "output_type": "stream",
          "name": "stdout",
          "text": [
            "[2916] [-1890] [1225]\n",
            "47.44470465710583\n"
          ]
        }
      ]
    },
    {
      "cell_type": "code",
      "source": [
        "a = array([2])\n",
        "b = array([5])\n",
        "c = 3*a - b\n",
        "\n",
        "c_norm = 9*a**2 - 3*a*b + b**2\n",
        "print(9*a**2, -15*a*b, 25*b**2)\n",
        "print(c_norm)\n",
        "print(sqrt(c_norm))"
      ],
      "metadata": {
        "colab": {
          "base_uri": "https://localhost:8080/"
        },
        "id": "VOXlaQIBpUlQ",
        "outputId": "371a0472-7285-4632-b2be-b9f55244d499"
      },
      "execution_count": null,
      "outputs": [
        {
          "output_type": "stream",
          "name": "stdout",
          "text": [
            "[36] [-150] [625]\n",
            "[31]\n",
            "5.5677643628300215\n"
          ]
        }
      ]
    },
    {
      "cell_type": "code",
      "source": [
        "from numpy import array, inf\n",
        "from numpy.linalg import norm\n",
        "from math import sqrt\n",
        "a = array([22, 4, -6, 3.9, 7])\n",
        "b = array([12, -0.5, 6, 42, 1])\n",
        "print(norm(a-b,1))\n",
        "print(norm(a-b))\n",
        "print(norm(a-b, inf))"
      ],
      "metadata": {
        "colab": {
          "base_uri": "https://localhost:8080/"
        },
        "id": "ghZ679dSSyQf",
        "outputId": "36d3425a-3536-435d-f187-8d5d0c927958"
      },
      "execution_count": null,
      "outputs": [
        {
          "output_type": "stream",
          "name": "stdout",
          "text": [
            "70.6\n",
            "41.85522667481327\n",
            "38.1\n"
          ]
        }
      ]
    },
    {
      "cell_type": "code",
      "source": [
        "from numpy import array\n",
        "from numpy.linalg import norm\n",
        "\n",
        "a = array([-4, 6, 12])\n",
        "b = array([2, -8, 3])\n",
        "c = array([5, 3, -1])\n",
        "\n",
        "cos_ab = a @ b / norm(a) / norm(b)\n",
        "cos_ac = a @ c / norm(a) / norm(c)\n",
        "cos_bc = b @ c / norm(b) / norm(c)\n",
        "print(cos_ab, cos_ac, cos_bc)"
      ],
      "metadata": {
        "colab": {
          "base_uri": "https://localhost:8080/"
        },
        "id": "md2W_FGj6snD",
        "outputId": "0fb8f36e-f53d-48e9-cae7-f474d91d9e1a"
      },
      "execution_count": null,
      "outputs": [
        {
          "output_type": "stream",
          "name": "stdout",
          "text": [
            "-0.16280082351376848 -0.1690308509457033 -0.32746850462500326\n"
          ]
        }
      ]
    },
    {
      "cell_type": "code",
      "source": [
        "a = array([-1, 0.5, 3.5, 1])\n",
        "b = array([6, 10, -4, 8])\n",
        "c = array([-5, 10, 10, 2.5])\n",
        "j = -4*a - 2.5*b + 1.2*c\n",
        "\n",
        "print(j)\n",
        "print(norm(j, 1))"
      ],
      "metadata": {
        "colab": {
          "base_uri": "https://localhost:8080/"
        },
        "id": "5lbqnStg8iTw",
        "outputId": "085fea90-f9b8-4774-9829-aa27068754eb"
      },
      "execution_count": null,
      "outputs": [
        {
          "output_type": "stream",
          "name": "stdout",
          "text": [
            "[-17. -15.   8. -21.]\n",
            "61.0\n"
          ]
        }
      ]
    },
    {
      "cell_type": "code",
      "source": [
        "from numpy import inf\n",
        "f = array([8, -16, -4, 5])\n",
        "\n",
        "print(norm(f, 1))\n",
        "print(norm(f))\n",
        "print(norm(f, inf))"
      ],
      "metadata": {
        "colab": {
          "base_uri": "https://localhost:8080/"
        },
        "id": "cpaEiUZT97K6",
        "outputId": "1fe379b3-6ed1-46a1-a3de-d3fb03c5f2b9"
      },
      "execution_count": null,
      "outputs": [
        {
          "output_type": "stream",
          "name": "stdout",
          "text": [
            "33.0\n",
            "19.0\n",
            "16.0\n"
          ]
        }
      ]
    },
    {
      "cell_type": "code",
      "source": [
        "a = array([0.6, 1.5, 2.4])\n",
        "b = array([-3.5, 2, -0.5])\n",
        "\n",
        "print(a @ b)"
      ],
      "metadata": {
        "colab": {
          "base_uri": "https://localhost:8080/"
        },
        "id": "euDANwzd-qQh",
        "outputId": "49c5b0f4-3338-4a6a-ee16-c61150e5d0e6"
      },
      "execution_count": null,
      "outputs": [
        {
          "output_type": "stream",
          "name": "stdout",
          "text": [
            "-0.30000000000000004\n"
          ]
        }
      ]
    },
    {
      "cell_type": "code",
      "source": [
        "W_example = [4, 3, 3]\n",
        "V_example = [5, 3, 3]\n",
        "C_example = 6\n",
        "\n",
        "def knapsack_dynamic(W, V, C): # O(nC)\\n\",\n",
        "    n = len(W)\n",
        "    tbl = [[0] * (C + 1) for _ in range(n + 1)]\n",
        "    for i in range(1, n + 1):\n",
        "      for j in range(C + 1):\n",
        "        tbl[i][j] = tbl[i - 1][j]\n",
        "        if j >= W[i - 1]:\n",
        "          tbl[i][j] = max(\n",
        "              tbl[i][j],\n",
        "              tbl[i - 1][j - W[i - 1]] + V[i - 1]\n",
        "          )\n",
        "    print(\"\\n\".join([str(l) for l in tbl]))\n",
        "    return tbl[-1][-1]"
      ],
      "metadata": {
        "id": "dLDBOjMejwOy"
      },
      "execution_count": null,
      "outputs": []
    },
    {
      "cell_type": "code",
      "source": [
        "W_example = [1, 4, 5,  4,  3,  3, 2, 1]\n",
        "V_example = [4, 6, 20, 10, 16, 7, 13, 1]\n",
        "C_example = 12"
      ],
      "metadata": {
        "id": "8hvn1hQ4reAe"
      },
      "execution_count": null,
      "outputs": []
    },
    {
      "cell_type": "code",
      "source": [
        "knapsack_dynamic(W_example, V_example, C_example)"
      ],
      "metadata": {
        "colab": {
          "base_uri": "https://localhost:8080/"
        },
        "id": "TDx5VuDDld0P",
        "outputId": "ffa18456-01cd-4b89-a57e-8309b834afb7"
      },
      "execution_count": null,
      "outputs": [
        {
          "output_type": "stream",
          "name": "stdout",
          "text": [
            "[0, 0, 0, 0, 0, 0, 0, 0, 0, 0, 0, 0, 0]\n",
            "[0, 4, 4, 4, 4, 4, 4, 4, 4, 4, 4, 4, 4]\n",
            "[0, 4, 4, 4, 6, 10, 10, 10, 10, 10, 10, 10, 10]\n",
            "[0, 4, 4, 4, 6, 20, 24, 24, 24, 26, 30, 30, 30]\n",
            "[0, 4, 4, 4, 10, 20, 24, 24, 24, 30, 34, 34, 34]\n",
            "[0, 4, 4, 16, 20, 20, 24, 26, 36, 40, 40, 40, 46]\n",
            "[0, 4, 4, 16, 20, 20, 24, 27, 36, 40, 40, 43, 47]\n",
            "[0, 4, 13, 17, 20, 29, 33, 33, 37, 40, 49, 53, 53]\n",
            "[0, 4, 13, 17, 20, 29, 33, 34, 37, 40, 49, 53, 54]\n"
          ]
        },
        {
          "output_type": "execute_result",
          "data": {
            "text/plain": [
              "54"
            ]
          },
          "metadata": {},
          "execution_count": 169
        }
      ]
    },
    {
      "cell_type": "code",
      "source": [
        "W_example = [3, 8, 8,  2,  1,  8, 2, 3]\n",
        "V_example = [5, 4, 7,  5,  11, 20, 18, 20]\n",
        "C_example = 12"
      ],
      "metadata": {
        "id": "ZeNIPRT48VFd"
      },
      "execution_count": null,
      "outputs": []
    },
    {
      "cell_type": "code",
      "source": [
        "knapsack_dynamic(W_example, V_example, C_example)"
      ],
      "metadata": {
        "colab": {
          "base_uri": "https://localhost:8080/"
        },
        "id": "MrZyCPYaAy6F",
        "outputId": "8f33675a-ecac-4920-8b01-b9ee8e0c2feb"
      },
      "execution_count": null,
      "outputs": [
        {
          "output_type": "stream",
          "name": "stdout",
          "text": [
            "[0, 0, 0, 0, 0, 0, 0, 0, 0, 0, 0, 0, 0]\n",
            "[0, 0, 0, 5, 5, 5, 5, 5, 5, 5, 5, 5, 5]\n",
            "[0, 0, 0, 5, 5, 5, 5, 5, 5, 5, 5, 9, 9]\n",
            "[0, 0, 0, 5, 5, 5, 5, 5, 7, 7, 7, 12, 12]\n",
            "[0, 0, 5, 5, 5, 10, 10, 10, 10, 10, 12, 12, 12]\n",
            "[0, 11, 11, 16, 16, 16, 21, 21, 21, 21, 21, 23, 23]\n",
            "[0, 11, 11, 16, 16, 16, 21, 21, 21, 31, 31, 36, 36]\n",
            "[0, 11, 18, 29, 29, 34, 34, 34, 39, 39, 39, 49, 49]\n",
            "[0, 11, 18, 29, 31, 38, 49, 49, 54, 54, 54, 59, 59]\n"
          ]
        },
        {
          "output_type": "execute_result",
          "data": {
            "text/plain": [
              "59"
            ]
          },
          "metadata": {},
          "execution_count": 157
        }
      ]
    },
    {
      "cell_type": "code",
      "source": [
        "W_example = [9, 7,  1,   1,   5,  5, 4, 2]\n",
        "V_example = [2, 17, 19,  19,  6, 17, 15, 2]\n",
        "C_example = 12"
      ],
      "metadata": {
        "id": "2FJmp1OvSMhP"
      },
      "execution_count": null,
      "outputs": []
    },
    {
      "cell_type": "code",
      "source": [
        "knapsack_dynamic(W_example, V_example, C_example)"
      ],
      "metadata": {
        "colab": {
          "base_uri": "https://localhost:8080/"
        },
        "id": "Ipt690y5SOIa",
        "outputId": "17d43f2e-5c23-4dc6-bd60-1e3032df7fd5"
      },
      "execution_count": null,
      "outputs": [
        {
          "output_type": "stream",
          "name": "stdout",
          "text": [
            "[0, 0, 0, 0, 0, 0, 0, 0, 0, 0, 0, 0, 0]\n",
            "[0, 0, 0, 0, 0, 0, 0, 0, 0, 2, 2, 2, 2]\n",
            "[0, 0, 0, 0, 0, 0, 0, 17, 17, 17, 17, 17, 17]\n",
            "[0, 19, 19, 19, 19, 19, 19, 19, 36, 36, 36, 36, 36]\n",
            "[0, 19, 38, 38, 38, 38, 38, 38, 38, 55, 55, 55, 55]\n",
            "[0, 19, 38, 38, 38, 38, 38, 44, 44, 55, 55, 55, 55]\n",
            "[0, 19, 38, 38, 38, 38, 38, 55, 55, 55, 55, 55, 61]\n",
            "[0, 19, 38, 38, 38, 38, 53, 55, 55, 55, 55, 70, 70]\n",
            "[0, 19, 38, 38, 40, 40, 53, 55, 55, 57, 57, 70, 70]\n"
          ]
        },
        {
          "output_type": "execute_result",
          "data": {
            "text/plain": [
              "70"
            ]
          },
          "metadata": {},
          "execution_count": 163
        }
      ]
    },
    {
      "cell_type": "markdown",
      "source": [
        "23\n",
        "\n",
        "32\n",
        "\n",
        "32\n",
        "\n",
        "21\n",
        "\n",
        "1,4;4,6;5,20;4,10;3,16;3,7;2,13;1,1\n",
        "\n",
        "3,5;8,4;8,7;2,5;1,11;8,20;2,18;3,20\n",
        "\n",
        "9,2;7,17;1,19;1,19;5,6;5,17;4,15;2,2\n",
        "\n",
        "O(n)"
      ],
      "metadata": {
        "id": "6sjiOOs4XYOW"
      }
    },
    {
      "cell_type": "code",
      "source": [
        "from numpy import array\n",
        "from numpy.linalg import norm\n",
        "\n",
        "x = array([2, -2, -1])\n",
        "y = array([-4, 3, 0])\n",
        "\n",
        "cos_angle = x @ y / norm(x) / norm(y)\n",
        "\n",
        "print(cos_angle)"
      ],
      "metadata": {
        "colab": {
          "base_uri": "https://localhost:8080/"
        },
        "id": "-yY4HsFSsdNS",
        "outputId": "cce473f1-9970-4d74-da92-543149f9e732"
      },
      "execution_count": null,
      "outputs": [
        {
          "output_type": "stream",
          "name": "stdout",
          "text": [
            "-0.9333333333333333\n"
          ]
        }
      ]
    },
    {
      "cell_type": "code",
      "source": [
        "# программа для рассчета детерминанта матрицы\n",
        "\n",
        "import numpy as np\n",
        "\n",
        "def calculate_determinant(matrix):\n",
        "    # Check if the matrix is square\n",
        "    if matrix.shape[0] != matrix.shape[1]:\n",
        "        raise ValueError(\"Matrix must be square to calculate determinant\")\n",
        "\n",
        "    # Calculate determinant\n",
        "    determinant = np.linalg.det(matrix)\n",
        "\n",
        "    return determinant\n",
        "\n",
        "# Example usage\n",
        "matrix = np.array([[1, 6], [-4, 3]])\n",
        "determinant = calculate_determinant(matrix)\n",
        "print(f\"Determinant of the matrix:\\n{matrix}\\n\\nis {determinant}\")\n"
      ],
      "metadata": {
        "colab": {
          "base_uri": "https://localhost:8080/"
        },
        "id": "yLXPS--5HqkY",
        "outputId": "6c17d4ef-66fa-4ec7-c5aa-275d3ccbc32f"
      },
      "execution_count": null,
      "outputs": [
        {
          "output_type": "stream",
          "name": "stdout",
          "text": [
            "Determinant of the matrix:\n",
            "[[ 1  6]\n",
            " [-4  3]]\n",
            "\n",
            "is 27.0\n"
          ]
        }
      ]
    },
    {
      "cell_type": "code",
      "source": [
        "import numpy as np\n",
        "\n",
        "# Define the eigenvectors and eigenvalues\n",
        "P = np.array([[2, 1],\n",
        "              [1, 4]])\n",
        "\n",
        "D = np.array([[2, 0],\n",
        "              [0, -5]])\n",
        "\n",
        "# Calculate the inverse of P\n",
        "P_inv = np.linalg.inv(P)\n",
        "\n",
        "# Verify that P_inv is the inverse of P\n",
        "identity = np.dot(P, P_inv)\n",
        "\n",
        "# Calculate the diagonalized form of A\n",
        "A = np.dot(np.dot(P_inv, D), P)\n",
        "\n",
        "print(\"Diagonalized Matrix D:\")\n",
        "print(D)\n",
        "\n",
        "print(\"\\nInverse of P:\")\n",
        "print(P_inv)\n",
        "\n",
        "print(\"\\nIdentity Matrix (P * P_inv):\")\n",
        "print(identity)\n",
        "\n",
        "print(\"\\nDiagonalized Matrix A:\")\n",
        "print(A)\n"
      ],
      "metadata": {
        "colab": {
          "base_uri": "https://localhost:8080/"
        },
        "id": "EJmT0_YbOPz0",
        "outputId": "473837ed-fdce-418d-ea4d-65c7badca000"
      },
      "execution_count": null,
      "outputs": [
        {
          "output_type": "stream",
          "name": "stdout",
          "text": [
            "Diagonalized Matrix D:\n",
            "[[ 2  0]\n",
            " [ 0 -5]]\n",
            "\n",
            "Inverse of P:\n",
            "[[ 0.57142857 -0.14285714]\n",
            " [-0.14285714  0.28571429]]\n",
            "\n",
            "Identity Matrix (P * P_inv):\n",
            "[[1. 0.]\n",
            " [0. 1.]]\n",
            "\n",
            "Diagonalized Matrix A:\n",
            "[[ 3.  4.]\n",
            " [-2. -6.]]\n"
          ]
        }
      ]
    },
    {
      "cell_type": "code",
      "source": [
        "# программа для рассчета детерминанта матрицы на основе функции numpy\n",
        "\n",
        "from numpy import array\n",
        "from numpy.linalg import det\n",
        "\n",
        "A = array([[-6, 12, 0, 0], [12, -18, -6, 0], [6, 12, -6, 12], [-6, 6, 6, 6]])\n",
        "print(det(A))"
      ],
      "metadata": {
        "colab": {
          "base_uri": "https://localhost:8080/"
        },
        "id": "95MNyzjh-4vw",
        "outputId": "99a26a94-53f5-4c82-dcd8-315d9a46d04f"
      },
      "execution_count": null,
      "outputs": [
        {
          "output_type": "stream",
          "name": "stdout",
          "text": [
            "-3887.9999999999973\n"
          ]
        }
      ]
    },
    {
      "cell_type": "code",
      "source": [
        "# программа для вычисления eigenvalues\n",
        "from numpy import array\n",
        "import numpy.linalg as LA\n",
        "\n",
        "A = array([[2, 1],\n",
        "           [-2, -1]])\n",
        "w, v = LA.eig(A)\n",
        "print(w)"
      ],
      "metadata": {
        "colab": {
          "base_uri": "https://localhost:8080/"
        },
        "id": "sN73llnsJs_W",
        "outputId": "28e42252-1f92-416c-ce22-53fceb1afc19"
      },
      "execution_count": null,
      "outputs": [
        {
          "output_type": "stream",
          "name": "stdout",
          "text": [
            "[1. 0.]\n"
          ]
        }
      ]
    },
    {
      "cell_type": "code",
      "source": [
        "import numpy as np\n",
        "\n",
        "def compute_eigenvectors(matrix):\n",
        "    eigenvalues, eigenvectors = np.linalg.eig(matrix)\n",
        "    return eigenvalues, eigenvectors\n",
        "\n",
        "# Пример использования:\n",
        "A = np.array([[2, 2], [-1, -1]])\n",
        "\n",
        "eigenvalues, eigenvectors = compute_eigenvectors(A)\n",
        "\n",
        "print(\"Собственные значения:\")\n",
        "print(eigenvalues)\n",
        "\n",
        "print(\"\\nСобственные векторы:\")\n",
        "print(eigenvectors)\n"
      ],
      "metadata": {
        "colab": {
          "base_uri": "https://localhost:8080/"
        },
        "id": "G0JJuGG-PxEO",
        "outputId": "102f6c3b-ce5b-45a0-aa40-cd70a55c6203"
      },
      "execution_count": null,
      "outputs": [
        {
          "output_type": "stream",
          "name": "stdout",
          "text": [
            "Собственные значения:\n",
            "[1. 0.]\n",
            "\n",
            "Собственные векторы:\n",
            "[[ 0.89442719 -0.70710678]\n",
            " [-0.4472136   0.70710678]]\n"
          ]
        }
      ]
    },
    {
      "cell_type": "code",
      "source": [
        "import numpy as np\n",
        "\n",
        "def compute_eigenvectors(matrix):\n",
        "    eigenvalues, eigenvectors = np.linalg.eig(matrix)\n",
        "    return eigenvalues, eigenvectors\n",
        "\n",
        "# Пример использования:\n",
        "A = np.array([[2, -1, 1], [2, 1,-2], [1, 1, -2]])\n",
        "\n",
        "eigenvalues, eigenvectors = compute_eigenvectors(A)\n",
        "\n",
        "print(\"Собственные значения:\")\n",
        "print(eigenvalues)\n",
        "\n",
        "print(\"\\nСобственные векторы:\")\n",
        "print(eigenvectors)\n"
      ],
      "metadata": {
        "colab": {
          "base_uri": "https://localhost:8080/"
        },
        "id": "u4p7pSN1QEdO",
        "outputId": "52f7ff01-324c-4122-d4b7-b2f05135a2a7"
      },
      "execution_count": null,
      "outputs": [
        {
          "output_type": "stream",
          "name": "stdout",
          "text": [
            "Собственные значения:\n",
            "[ 0.99999999  1.00000001 -1.        ]\n",
            "\n",
            "Собственные векторы:\n",
            "[[-4.08248286e-01 -4.08248295e-01 -4.19516918e-17]\n",
            " [-8.16496583e-01 -8.16496579e-01  7.07106781e-01]\n",
            " [-4.08248291e-01 -4.08248290e-01  7.07106781e-01]]\n"
          ]
        }
      ]
    },
    {
      "cell_type": "code",
      "source": [
        "import numpy as np\n",
        "\n",
        "# Создаем матрицу\n",
        "B = np.array([[1, -3, 1], [-5, 0, 4], [-7, -5, 1]])\n",
        "T = np.array([[1, 3, 2], [0, 1, -2], [1, 4, -1]])\n",
        "\n",
        "# Считаем обратную матрицу\n",
        "T_inv = np.linalg.inv(T)\n",
        "T_inv_B = np.dot(T_inv, B)\n",
        "\n",
        "print(np.dot(T_inv_B, T))"
      ],
      "metadata": {
        "colab": {
          "base_uri": "https://localhost:8080/"
        },
        "id": "V7grPUwf5sw5",
        "outputId": "717720f5-7188-49ad-8dc3-41a383d83793"
      },
      "execution_count": null,
      "outputs": [
        {
          "output_type": "stream",
          "name": "stdout",
          "text": [
            "[[ -51. -215.   65.]\n",
            " [  13.   55.  -18.]\n",
            " [   7.   27.   -2.]]\n"
          ]
        }
      ]
    },
    {
      "cell_type": "code",
      "source": [
        "def heapify(array, n, i):\n",
        "    largest = i  # Initialize largest as root\n",
        "    left = 2 * i + 1  # left = 2*i + 1\n",
        "    right = 2 * i + 2  # right = 2*i + 2\n",
        "\n",
        "    # See if left child of root exists and is greater than root\n",
        "    if left < n and array[left] > array[largest]:\n",
        "        largest = left\n",
        "\n",
        "    # See if right child of root exists and is greater than largest so far\n",
        "    if right < n and array[right] > array[largest]:\n",
        "        largest = right\n",
        "\n",
        "    # Change root, if needed\n",
        "    if largest != i:\n",
        "        array[i], array[largest] = array[largest], array[i]  # swap\n",
        "        heapify(array, n, largest)  # Heapify the root\n",
        "\n",
        "def buildMaxHeap(array):\n",
        "    n = len(array)\n",
        "    for i in range(n // 2 - 1, -1, -1):\n",
        "        heapify(array, n, i)\n",
        "\n",
        "def heapsort(array):\n",
        "    n = len(array)\n",
        "    buildMaxHeap(array)\n",
        "\n",
        "    for i in range(n - 1, 0, -1):\n",
        "        array[0], array[i] = array[i], array[0]  # Swap the root of the heap with the last element\n",
        "        heapify(array, i, 0)\n",
        "\n",
        "    return array\n",
        "\n",
        "# Test cases\n",
        "arr = [3, 2, 1, 4]\n",
        "print(heapsort(arr))  # [1, 2, 3, 4]\n",
        "\n",
        "arr = [2011, 397, 614, 3888, 7116, 5059, 2664, 7782, 8945, 4920]\n",
        "print(heapsort(arr))  # [397, 614, 2011, 2664, 3888, 4920, 5059, 7116, 7782, 8945]\n"
      ],
      "metadata": {
        "id": "UQWRE-2zZ8mD",
        "outputId": "76fc3853-780f-445a-98a7-00739853245d",
        "colab": {
          "base_uri": "https://localhost:8080/"
        }
      },
      "execution_count": null,
      "outputs": [
        {
          "output_type": "stream",
          "name": "stdout",
          "text": [
            "[1, 2, 3, 4]\n",
            "[397, 614, 2011, 2664, 3888, 4920, 5059, 7116, 7782, 8945]\n"
          ]
        }
      ]
    },
    {
      "cell_type": "code",
      "source": [
        "print(None)"
      ],
      "metadata": {
        "id": "TxWtXL_1Bsy3",
        "outputId": "d0fe58a6-4f81-4ec5-9e27-86f0db1a5f42",
        "colab": {
          "base_uri": "https://localhost:8080/"
        }
      },
      "execution_count": null,
      "outputs": [
        {
          "output_type": "stream",
          "name": "stdout",
          "text": [
            "None\n"
          ]
        }
      ]
    }
  ]
}